{
 "cells": [
  {
   "cell_type": "markdown",
   "metadata": {},
   "source": [
    "# Example 5.2 (Country transportation choices).\n",
    "\n",
    "Suppose that the goals and specific projects shown in Table 5.2 are being considered by the Country Transportation Authority. \n",
    "There are three independent goals and a total of 10 projects. Table 5.2 shows the cost and the net present value (after the cost has been deucted) for each of the projects. The total available budget is $\\$5$ million.\n"
   ]
  },
  {
   "cell_type": "code",
   "execution_count": 2,
   "metadata": {
    "collapsed": true
   },
   "outputs": [],
   "source": [
    "#Table 5.2\n",
    "\n",
    "#      Name                       Cost       NPV\n",
    "#                              ($1000000) ($1000000) \n",
    "#Road between Augen and Burger\n",
    "goal1={\"Concrete, 2 lanes\":     [2.0,       4.0],\n",
    "       \"Concrete, 4 lanes\":     [3.0,       5.0],\n",
    "       \"Asphalt, 2 lanes\":      [1.5,       3.0],\n",
    "       \"Asplalt, 4 lanes \":     [2.2,       4.3]}\n",
    "#Bridge at Cay Road\n",
    "goal2={\"Repair existing\":       [0.5,       1.0],\n",
    "       \"Add lane\":              [1.5,       1.5],\n",
    "       \"New structure\":         [2.5,       2.5]}\n",
    "#Traffic Control in downsber\n",
    "goal3={\"Traffic lights\":        [0.1,       0.3],\n",
    "       \"Turn lanes\":            [0.6,       1.0],\n",
    "       \"Underpass\":             [1.0,       2.0]}\n",
    "\n",
    "# NPV:Net Present Value"
   ]
  },
  {
   "cell_type": "markdown",
   "metadata": {},
   "source": [
    "In this case, the problem to be solved is a zero-one programming problem however there are other restrictions among the goals and the projects. Formally, the problem can be expressed in the following form:\n",
    "\n",
    "$maximize\\sum^{m}_{i=1}\\sum^{n_i}_{j=1}b_{ij}x_{ij}$\n",
    "\n",
    "$Subject$ $to$ $\\sum^{m}_{i=1}\\sum^{n_i}_{j=1}c_{ij}x_{ij}\\leq C$; $\\sum^{n_i}_{j=1}x_{ij}\\leq 1$, $for$ $i=1,2,...,m.$  $x_i=0$ $or$ $1$, $for$ $all$ $i$ $and$ $j$ "
   ]
  },
  {
   "cell_type": "markdown",
   "metadata": {},
   "source": [
    "In this context, we define the variables $x_i=1,2,...,10,$ with $x_i$ equal to $1$ if it is to be selected and $0$ if not, the cost $c_i$ is obtained from the cost column, and $b_i$ Is obtained from the NPV column. The problem can be expressed as:\n",
    "\n",
    "$maximize$ $4.0x_1+5.0x_2+3.0x_3+4.3x_4+1.0x_5+1.5x_6+2.5x_7+0.3x_8+1.0x_9+2.0x_{10}$\n",
    "\n",
    "$Subject$ $to$ \n",
    "\n",
    "$2.0x_1+3.0x_2+1.5x_3+2.2x_4+0.5x_5+1.5x_6+2.5x_7+0.1x_8+0.6x_9+1.0x_{10} \\leq 5$,\n",
    "\n",
    "$x_1+x_2+x_3+x_4 \\leq 1$\n",
    "          \n",
    "$x_5+x_6+x_7 \\leq 1$\n",
    "          \n",
    "$x_8+x_9+x_{10} \\leq 1$\n",
    "          \n",
    "$x_i=0$ $or$ $1$, $for$ $each$ $i$.\n",
    "\n",
    "The objective of the problem is to obtain the Optimal x-Value ($1$ or $0$) of each goal by obtaining the Optimal PV with the cost restrictions and the unique proyect per goal selection."
   ]
  },
  {
   "cell_type": "code",
   "execution_count": 4,
   "metadata": {},
   "outputs": [
    {
     "name": "stdout",
     "output_type": "stream",
     "text": [
      "Status: Optimal\n",
      "x1 = 0.0\n",
      "x10 = 1.0\n",
      "x2 = 1.0\n",
      "x3 = 0.0\n",
      "x4 = 0.0\n",
      "x5 = 1.0\n",
      "x6 = 0.0\n",
      "x7 = 0.0\n",
      "x8 = 0.0\n",
      "x9 = 0.0\n",
      "Optimum value:  8.0 ($1000000)\n"
     ]
    }
   ],
   "source": [
    "#Import libraries\n",
    "from pulp import *\n",
    "\n",
    "#Create a problem variable:\n",
    "prob=LpProblem(\"Cashflow problem\", LpMaximize)\n",
    "\n",
    "#Create the variables of the problem (remember the constrains: Xi must be 0 or 1):\n",
    "x1=LpVariable('x1',lowBound=0,upBound=1, cat=\"Integer\")\n",
    "x2=LpVariable('x2',lowBound=0,upBound=1, cat=\"Integer\")\n",
    "x3=LpVariable('x3',lowBound=0,upBound=1, cat=\"Integer\")\n",
    "x4=LpVariable('x4',lowBound=0,upBound=1, cat=\"Integer\")\n",
    "x5=LpVariable('x5',lowBound=0,upBound=1, cat=\"Integer\")\n",
    "x6=LpVariable('x6',lowBound=0,upBound=1, cat=\"Integer\")\n",
    "x7=LpVariable('x7',lowBound=0,upBound=1, cat=\"Integer\")\n",
    "x8=LpVariable('x8',lowBound=0,upBound=1, cat=\"Integer\")\n",
    "x9=LpVariable('x9',lowBound=0,upBound=1, cat=\"Integer\")\n",
    "x10=LpVariable('x10',lowBound=0,upBound=1, cat=\"Integer\")\n",
    "\n",
    "#Create the objective function:\n",
    "ObjF=4.0*x1+5.0*x2+3.0*x3+4.3*x4+1.0*x5+1.5*x6+2.5*x7+0.3*x8+1.0*x9+2.0*x10\n",
    "\n",
    "#Create the constraints:\n",
    "constraint1=2.0*x1+3.0*x2+1.5*x3+2.2*x4+0.5*x5+1.5*x6+2.5*x7+0.1*x8+0.6*x9+1.0*x10 <= 5\n",
    "constraint2=x1+x2+x3+x4 <= 1\n",
    "constraint3=x5+x6+x7 <= 1\n",
    "constraint4=x8+x9+x10 <= 1\n",
    "\n",
    "\n",
    "\n",
    "#Add the objective function and the constraints to the problem.\n",
    "prob+= ObjF\n",
    "prob+= constraint1\n",
    "prob+=constraint2\n",
    "prob+=constraint3\n",
    "prob+=constraint4\n",
    "\n",
    "#Solve the problem:\n",
    "prob.solve()\n",
    "\n",
    "#Print the resutls:\n",
    "print (\"Status:\", LpStatus[prob.status])\n",
    "for v in prob.variables():\n",
    "    print(v.name, \"=\", v.varValue)   \n",
    "print(\"Optimum value: \", value(prob.objective),\"($1000000)\")"
   ]
  },
  {
   "cell_type": "code",
   "execution_count": null,
   "metadata": {
    "collapsed": true
   },
   "outputs": [],
   "source": []
  }
 ],
 "metadata": {
  "kernelspec": {
   "display_name": "Python 3",
   "language": "python",
   "name": "python3"
  },
  "language_info": {
   "codemirror_mode": {
    "name": "ipython",
    "version": 3
   },
   "file_extension": ".py",
   "mimetype": "text/x-python",
   "name": "python",
   "nbconvert_exporter": "python",
   "pygments_lexer": "ipython3",
   "version": "3.6.1"
  }
 },
 "nbformat": 4,
 "nbformat_minor": 2
}
