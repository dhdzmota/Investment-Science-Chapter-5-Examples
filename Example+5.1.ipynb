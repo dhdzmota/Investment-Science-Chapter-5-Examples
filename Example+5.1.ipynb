{
 "cells": [
  {
   "cell_type": "markdown",
   "metadata": {},
   "source": [
    "# Example 5.1 (A selection problem).\n",
    "\n",
    "During its annual budget planning meeting, a small computer company has identified several proposals for independent protects that could be initialized in the forthcoming year. These projects include the purchase of equipment, the design of new products, the lease of new facilities and so forth. The projects all require an initial capital outlay in the coming year. The company management believes that it can make available up to $\\$50,000$ for these projects. The financial aspects of the projects are shown in Table 5.1. \n",
    "\n",
    "For each Project the required initial outlay, the present worth of the benefits (the present value of the remainder of the stream after the initial outlay), and the ratio of these two are show. The projects are already listed in order of decreasing benefit-cost ratio. According to the approximate method, the company would select projects $1$, $2$, $3$, $4$ and $5$ for a total expenditure of $\\$370,000$ and a total net present value of $\\$910,000-\\$370,000=\\$540,000$. However, this solution is not optimal. "
   ]
  },
  {
   "cell_type": "code",
   "execution_count": 5,
   "metadata": {
    "collapsed": true
   },
   "outputs": [],
   "source": [
    "#Table 5.1      O     Pw      BCr    NPV\n",
    "#             ($1000) ($1000)      ($1000)\n",
    "proyect={\"x1\":[100,   300,    3.00,  200],\n",
    "         \"x2\":[20,    50,     2.50,  30 ],\n",
    "         \"x3\":[150,   350,    2.33,  200],\n",
    "         \"x4\":[50,    110,    2.20,  60 ],\n",
    "         \"x5\":[50,    100,    2.00,  50 ],\n",
    "         \"x6\":[150,   250,    1.67,  100],\n",
    "         \"x7\":[150,   200,    1.33,  50 ],}\n",
    "\n",
    "#Where O:Outlay, Pw:Present worth, BCr:Benefit-Cost Ratio, NPV:Net Present Value\n"
   ]
  },
  {
   "cell_type": "markdown",
   "metadata": {
    "collapsed": true
   },
   "source": [
    "In this case, the problem to be solved is a zero-one programming problem, since the variables can only have a value of $0$ or $1$. Formally, the problem can be expressed in the following form:\n",
    "\n",
    "$maximize\\sum^{m}_{i=1}b_ix_i$\n",
    "\n",
    "$Subject$ $to$ $\\sum^{m}_{i=1}c_ix_i\\leq C$, $x_i=0$ $or$ $1$ $for$ $i=1,2,...,m.$ "
   ]
  },
  {
   "cell_type": "markdown",
   "metadata": {},
   "source": [
    "In this context, we define the variables $x_i=1,2,...,7,$ with $x_i$ equal to $1$ if it is to be selected and $0$ if not, the cost $c_i$ is obtained from the outlay column, and $b_i$ Is obtained from the NPV column. The problem can be expressed as:\n",
    "\n",
    "$maximize$ $200x_1+30x_2+200x_3+60x_4+50x_5+100x_6+50x_7$\n",
    "\n",
    "$Subject$ $to$ $100x_1+20x_2+150x_3+50x_4+50x_5+150x_6+150x_7 \\leq 500$, $x_i=0$ $or$ $1$, $for$ $each$ $i$.\n",
    "\n",
    "Basically the objective of the problem is to obtain the Optimal x-Value ($1$ or $0$) by obtaining the Optimal PV with the cost restrictions."
   ]
  },
  {
   "cell_type": "code",
   "execution_count": 7,
   "metadata": {},
   "outputs": [
    {
     "name": "stdout",
     "output_type": "stream",
     "text": [
      "Status: Optimal\n",
      "x1 = 1.0\n",
      "x2 = 0.0\n",
      "x3 = 1.0\n",
      "x4 = 1.0\n",
      "x5 = 1.0\n",
      "x6 = 1.0\n",
      "x7 = 0.0\n",
      "Optimum value:  610.0 ($1000)\n"
     ]
    }
   ],
   "source": [
    "#Import libraries\n",
    "from pulp import *\n",
    "\n",
    "#Create a problem variable:\n",
    "prob=LpProblem(\"Cashflow problem\", LpMaximize)\n",
    "\n",
    "#Create the variables of the problem (remember the constrains: Xi must be 0 or 1):\n",
    "x1=LpVariable('x1',lowBound=0,upBound=1, cat=\"Integer\")\n",
    "x2=LpVariable('x2',lowBound=0,upBound=1, cat=\"Integer\")\n",
    "x3=LpVariable('x3',lowBound=0,upBound=1, cat=\"Integer\")\n",
    "x4=LpVariable('x4',lowBound=0,upBound=1, cat=\"Integer\")\n",
    "x5=LpVariable('x5',lowBound=0,upBound=1, cat=\"Integer\")\n",
    "x6=LpVariable('x6',lowBound=0,upBound=1, cat=\"Integer\")\n",
    "x7=LpVariable('x7',lowBound=0,upBound=1, cat=\"Integer\")\n",
    "\n",
    "#Create the objective function:\n",
    "ObjF=200*x1+30*x2+200*x3+60*x4+50*x5+100*x6+50*x7\n",
    "\n",
    "#Create the constraints:\n",
    "constraint=100*x1+20*x2+150*x3+50*x4+50*x5+150*x6+150*x7 <= 500\n",
    "\n",
    "\n",
    "#Add the objective function and the constraints to the problem.\n",
    "prob+= ObjF\n",
    "prob+= constraint\n",
    "\n",
    "#Solve the problem:\n",
    "prob.solve()\n",
    "\n",
    "#Print the resutls:\n",
    "print (\"Status:\", LpStatus[prob.status])\n",
    "for v in prob.variables():\n",
    "    print(v.name, \"=\", v.varValue)   \n",
    "print(\"Optimum value: \", value(prob.objective),\"($1000)\")"
   ]
  }
 ],
 "metadata": {
  "kernelspec": {
   "display_name": "Python 3",
   "language": "python",
   "name": "python3"
  },
  "language_info": {
   "codemirror_mode": {
    "name": "ipython",
    "version": 3
   },
   "file_extension": ".py",
   "mimetype": "text/x-python",
   "name": "python",
   "nbconvert_exporter": "python",
   "pygments_lexer": "ipython3",
   "version": "3.6.1"
  }
 },
 "nbformat": 4,
 "nbformat_minor": 2
}
